{
 "cells": [
  {
   "cell_type": "code",
   "execution_count": 1,
   "id": "8c0f37cf",
   "metadata": {},
   "outputs": [],
   "source": [
    "#pip install rdp # more problems"
   ]
  },
  {
   "cell_type": "code",
   "execution_count": 2,
   "id": "0621f5fa",
   "metadata": {},
   "outputs": [],
   "source": [
    "from rdp import rdp"
   ]
  },
  {
   "cell_type": "code",
   "execution_count": 3,
   "id": "6c2d4d14",
   "metadata": {},
   "outputs": [
    {
     "data": {
      "text/plain": [
       "[[1, 1], [4, 4]]"
      ]
     },
     "execution_count": 3,
     "metadata": {},
     "output_type": "execute_result"
    }
   ],
   "source": [
    "rdp([[1, 1], [2, 2], [3, 3], [4, 4]])"
   ]
  },
  {
   "cell_type": "code",
   "execution_count": 4,
   "id": "bd3bc157",
   "metadata": {},
   "outputs": [
    {
     "data": {
      "text/plain": [
       "[[1.0, 1.0], [2.0, 2.0]]"
      ]
     },
     "execution_count": 4,
     "metadata": {},
     "output_type": "execute_result"
    }
   ],
   "source": [
    "rdp([[1, 1], [1, 1.1], [2, 2]], epsilon=0.5)"
   ]
  },
  {
   "cell_type": "code",
   "execution_count": 5,
   "id": "180b5c4f",
   "metadata": {},
   "outputs": [
    {
     "data": {
      "text/plain": [
       "array([[1, 1],\n",
       "       [4, 4]])"
      ]
     },
     "execution_count": 5,
     "metadata": {},
     "output_type": "execute_result"
    }
   ],
   "source": [
    "import numpy as np\n",
    "from rdp import rdp\n",
    "\n",
    "rdp(np.array([1, 1, 2, 2, 3, 3, 4, 4]).reshape(4, 2))"
   ]
  },
  {
   "cell_type": "raw",
   "id": "add5901b",
   "metadata": {},
   "source": [
    "The Ramer-Douglas-Peucker algorithm is an algorithm for reducing the number of points in a curve that is approximated by a series of points."
   ]
  },
  {
   "cell_type": "code",
   "execution_count": null,
   "id": "b6734778",
   "metadata": {},
   "outputs": [],
   "source": []
  }
 ],
 "metadata": {
  "kernelspec": {
   "display_name": "Python 3 (ipykernel)",
   "language": "python",
   "name": "python3"
  },
  "language_info": {
   "codemirror_mode": {
    "name": "ipython",
    "version": 3
   },
   "file_extension": ".py",
   "mimetype": "text/x-python",
   "name": "python",
   "nbconvert_exporter": "python",
   "pygments_lexer": "ipython3",
   "version": "3.9.7"
  }
 },
 "nbformat": 4,
 "nbformat_minor": 5
}

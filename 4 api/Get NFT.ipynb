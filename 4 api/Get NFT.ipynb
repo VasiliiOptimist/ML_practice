{
 "cells": [
  {
   "cell_type": "code",
   "execution_count": 2,
   "metadata": {},
   "outputs": [
    {
     "name": "stdout",
     "output_type": "stream",
     "text": [
      "{\"response\":\"OK\",\"nfts\":[{\"chain\":\"ethereum\",\"contract_address\":\"0x6d5213b085d472273b625857ae0a11ecf2ce7f37\",\"token_id\":\"4907\"},{\"chain\":\"ethereum\",\"contract_address\":\"0x6d5213b085d472273b625857ae0a11ecf2ce7f37\",\"token_id\":\"5649\"},{\"chain\":\"ethereum\",\"contract_address\":\"0x6d5213b085d472273b625857ae0a11ecf2ce7f37\",\"token_id\":\"5713\"},{\"chain\":\"ethereum\",\"contract_address\":\"0x6d5213b085d472273b625857ae0a11ecf2ce7f37\",\"token_id\":\"5279\"},{\"chain\":\"ethereum\",\"contract_address\":\"0x6d5213b085d472273b625857ae0a11ecf2ce7f37\",\"token_id\":\"5298\"},{\"chain\":\"ethereum\",\"contract_address\":\"0x6d5213b085d472273b625857ae0a11ecf2ce7f37\",\"token_id\":\"5292\"},{\"chain\":\"ethereum\",\"contract_address\":\"0x6d5213b085d472273b625857ae0a11ecf2ce7f37\",\"token_id\":\"5276\"},{\"chain\":\"ethereum\",\"contract_address\":\"0x6d5213b085d472273b625857ae0a11ecf2ce7f37\",\"token_id\":\"5350\"},{\"chain\":\"ethereum\",\"contract_address\":\"0x6d5213b085d472273b625857ae0a11ecf2ce7f37\",\"token_id\":\"5270\"},{\"chain\":\"ethereum\",\"contract_address\":\"0x6d5213b085d472273b625857ae0a11ecf2ce7f37\",\"token_id\":\"5261\"},{\"chain\":\"ethereum\",\"contract_address\":\"0x6d5213b085d472273b625857ae0a11ecf2ce7f37\",\"token_id\":\"5271\"},{\"chain\":\"ethereum\",\"contract_address\":\"0x6d5213b085d472273b625857ae0a11ecf2ce7f37\",\"token_id\":\"4856\"},{\"chain\":\"ethereum\",\"contract_address\":\"0x6d5213b085d472273b625857ae0a11ecf2ce7f37\",\"token_id\":\"5264\"},{\"chain\":\"ethereum\",\"contract_address\":\"0x6d5213b085d472273b625857ae0a11ecf2ce7f37\",\"token_id\":\"5243\"},{\"chain\":\"ethereum\",\"contract_address\":\"0x6d5213b085d472273b625857ae0a11ecf2ce7f37\",\"token_id\":\"5310\"},{\"chain\":\"ethereum\",\"contract_address\":\"0x6d5213b085d472273b625857ae0a11ecf2ce7f37\",\"token_id\":\"5327\"},{\"chain\":\"ethereum\",\"contract_address\":\"0x6d5213b085d472273b625857ae0a11ecf2ce7f37\",\"token_id\":\"4879\"},{\"chain\":\"ethereum\",\"contract_address\":\"0x6d5213b085d472273b625857ae0a11ecf2ce7f37\",\"token_id\":\"5218\"},{\"chain\":\"ethereum\",\"contract_address\":\"0x6d5213b085d472273b625857ae0a11ecf2ce7f37\",\"token_id\":\"5314\"},{\"chain\":\"ethereum\",\"contract_address\":\"0x6d5213b085d472273b625857ae0a11ecf2ce7f37\",\"token_id\":\"5413\"},{\"chain\":\"ethereum\",\"contract_address\":\"0x6d5213b085d472273b625857ae0a11ecf2ce7f37\",\"token_id\":\"5291\"},{\"chain\":\"ethereum\",\"contract_address\":\"0x6d5213b085d472273b625857ae0a11ecf2ce7f37\",\"token_id\":\"5248\"},{\"chain\":\"ethereum\",\"contract_address\":\"0x6d5213b085d472273b625857ae0a11ecf2ce7f37\",\"token_id\":\"5225\"},{\"chain\":\"ethereum\",\"contract_address\":\"0x6d5213b085d472273b625857ae0a11ecf2ce7f37\",\"token_id\":\"4543\"},{\"chain\":\"ethereum\",\"contract_address\":\"0x6d5213b085d472273b625857ae0a11ecf2ce7f37\",\"token_id\":\"5277\"},{\"chain\":\"ethereum\",\"contract_address\":\"0x6d5213b085d472273b625857ae0a11ecf2ce7f37\",\"token_id\":\"5313\"},{\"chain\":\"ethereum\",\"contract_address\":\"0x6d5213b085d472273b625857ae0a11ecf2ce7f37\",\"token_id\":\"5377\"},{\"chain\":\"ethereum\",\"contract_address\":\"0x6d5213b085d472273b625857ae0a11ecf2ce7f37\",\"token_id\":\"5242\"},{\"chain\":\"ethereum\",\"contract_address\":\"0x6d5213b085d472273b625857ae0a11ecf2ce7f37\",\"token_id\":\"3701\"},{\"chain\":\"ethereum\",\"contract_address\":\"0x6d5213b085d472273b625857ae0a11ecf2ce7f37\",\"token_id\":\"4858\"},{\"chain\":\"ethereum\",\"contract_address\":\"0x6d5213b085d472273b625857ae0a11ecf2ce7f37\",\"token_id\":\"5302\"},{\"chain\":\"ethereum\",\"contract_address\":\"0x6d5213b085d472273b625857ae0a11ecf2ce7f37\",\"token_id\":\"5001\"},{\"chain\":\"ethereum\",\"contract_address\":\"0x6d5213b085d472273b625857ae0a11ecf2ce7f37\",\"token_id\":\"5285\"},{\"chain\":\"ethereum\",\"contract_address\":\"0x6d5213b085d472273b625857ae0a11ecf2ce7f37\",\"token_id\":\"5303\"},{\"chain\":\"ethereum\",\"contract_address\":\"0x6d5213b085d472273b625857ae0a11ecf2ce7f37\",\"token_id\":\"5366\"},{\"chain\":\"ethereum\",\"contract_address\":\"0x6d5213b085d472273b625857ae0a11ecf2ce7f37\",\"token_id\":\"5339\"},{\"chain\":\"ethereum\",\"contract_address\":\"0x6d5213b085d472273b625857ae0a11ecf2ce7f37\",\"token_id\":\"5320\"},{\"chain\":\"ethereum\",\"contract_address\":\"0x6d5213b085d472273b625857ae0a11ecf2ce7f37\",\"token_id\":\"5385\"},{\"chain\":\"ethereum\",\"contract_address\":\"0x6d5213b085d472273b625857ae0a11ecf2ce7f37\",\"token_id\":\"5312\"},{\"chain\":\"ethereum\",\"contract_address\":\"0x6d5213b085d472273b625857ae0a11ecf2ce7f37\",\"token_id\":\"5360\"},{\"chain\":\"ethereum\",\"contract_address\":\"0x6d5213b085d472273b625857ae0a11ecf2ce7f37\",\"token_id\":\"5224\"},{\"chain\":\"ethereum\",\"contract_address\":\"0x6d5213b085d472273b625857ae0a11ecf2ce7f37\",\"token_id\":\"5306\"},{\"chain\":\"ethereum\",\"contract_address\":\"0x6d5213b085d472273b625857ae0a11ecf2ce7f37\",\"token_id\":\"4904\"},{\"chain\":\"ethereum\",\"contract_address\":\"0x6d5213b085d472273b625857ae0a11ecf2ce7f37\",\"token_id\":\"4976\"},{\"chain\":\"ethereum\",\"contract_address\":\"0x6d5213b085d472273b625857ae0a11ecf2ce7f37\",\"token_id\":\"4891\"},{\"chain\":\"ethereum\",\"contract_address\":\"0x6d5213b085d472273b625857ae0a11ecf2ce7f37\",\"token_id\":\"5278\"},{\"chain\":\"ethereum\",\"contract_address\":\"0x6d5213b085d472273b625857ae0a11ecf2ce7f37\",\"token_id\":\"4940\"},{\"chain\":\"ethereum\",\"contract_address\":\"0x6d5213b085d472273b625857ae0a11ecf2ce7f37\",\"token_id\":\"5326\"},{\"chain\":\"ethereum\",\"contract_address\":\"0x6d5213b085d472273b625857ae0a11ecf2ce7f37\",\"token_id\":\"2544\"},{\"chain\":\"ethereum\",\"contract_address\":\"0x6d5213b085d472273b625857ae0a11ecf2ce7f37\",\"token_id\":\"5324\"}],\"continuation\":\"MjAyMi0xMC0xN1QxNjoxODoyMi4wNTg5ODk=\"}\n"
     ]
    }
   ],
   "source": [
    "import requests\n",
    "\n",
    "url = \"https://api.nftport.xyz/v0/nfts\"\n",
    "\n",
    "querystring = {\"chain\":\"ethereum\"}\n",
    "\n",
    "headers = {\n",
    "    \"Content-Type\": \"application/json\",\n",
    "    \"Authorization\": \"5e2bd97b-20d9-4f21-8bb9-3b4db7cfb0e8\"\n",
    "}\n",
    "\n",
    "response = requests.request(\"GET\", url, headers=headers, params=querystring)\n",
    "\n",
    "print(response.text)"
   ]
  },
  {
   "cell_type": "code",
   "execution_count": 12,
   "metadata": {},
   "outputs": [
    {
     "name": "stdout",
     "output_type": "stream",
     "text": [
      "{\"response\":\"OK\",\"nft\":{\"chain\":\"ethereum\",\"contract_address\":\"0x6d5213b085d472273b625857ae0a11ecf2ce7f37\",\"token_id\":\"5649\",\"metadata_url\":\"https://astrobabyclub.mypinata.cloud/ipfs/QmWrT8jcZTKKuyfqSnNAmd7qxUpRySKi2rZgF1LFvGwkoZ/5649\",\"metadata\":{\"attributes\":[{\"trait_type\":\"Background\",\"value\":\"Phoenix Pink\"},{\"trait_type\":\"Body\",\"value\":\"Ocean Royal\"},{\"trait_type\":\"DNA\",\"value\":\"Human\"},{\"trait_type\":\"Eyes\",\"value\":\"Crybaby\"},{\"trait_type\":\"Mouth\",\"value\":\"Pout\"},{\"trait_type\":\"Helmet\",\"value\":\"Astro - Marine\"},{\"trait_type\":\"Hand\",\"value\":\"None\"}],\"description\":\"Astro Baby Club is a collection of uniquely hand-drawn NFTs generated on the Ethereum galaxy. ABC was founded with the core mission of doing good, having fun, and pushing the limits of web3. Each NFT is a forever membership in the Astro Baby Club which grants access to member benefits starting with in-person and online events, merchandise, IP ownership of your unique NFT, and more. Check www.AstroBabyClub.com for more details.\",\"id\":\"5649\",\"image\":\"https://gateway.pinata.cloud/ipfs/QmYK7Eoxva8m2Yb9o3bnxp2nn4WP33j6RrREyUrp8teM3p/5649.jpeg\",\"name\":\"Astro Baby Club #5649\"},\"file_information\":{\"height\":3000,\"width\":3000,\"file_size\":556161},\"file_url\":\"https://gateway.pinata.cloud/ipfs/QmYK7Eoxva8m2Yb9o3bnxp2nn4WP33j6RrREyUrp8teM3p/5649.jpeg\",\"animation_url\":null,\"cached_file_url\":\"https://storage.googleapis.com/sentinel-nft/raw-assets/234e319938c0e8326c3fa68c5f1153fea7280262c629a53a9bf581b19a09f01b.jpeg\",\"cached_animation_url\":null,\"mint_date\":\"2022-10-17T16:12:23\",\"updated_date\":\"2022-10-17T16:18:25.480987\"},\"owner\":\"0x3f467cba06b20fac4272992ed1718f87840f0a04\",\"contract\":{\"name\":\"Astro Baby Club\",\"symbol\":\"ABC\",\"type\":\"ERC721\",\"metadata\":null}}\n"
     ]
    }
   ],
   "source": [
    "contract_adress = \"0x6d5213b085d472273b625857ae0a11ecf2ce7f37\"\n",
    "token_id = \"5649\"\n",
    "\n",
    "url = f\"https://api.nftport.xyz/v0/nfts/{ contract_adress }/{ token_id }\"\n",
    "\n",
    "querystring = {\n",
    "    \"chain\":\"ethereum\",\n",
    "    }\n",
    "\n",
    "headers = {\n",
    "    \"Content-Type\": \"application/json\",\n",
    "    \"Authorization\": \"5e2bd97b-20d9-4f21-8bb9-3b4db7cfb0e8\",\n",
    "}\n",
    "\n",
    "response = requests.request(\"GET\", url, headers=headers, params=querystring)\n",
    "\n",
    "print(response.text)\n"
   ]
  },
  {
   "cell_type": "code",
   "execution_count": null,
   "metadata": {},
   "outputs": [],
   "source": []
  },
  {
   "cell_type": "code",
   "execution_count": null,
   "metadata": {},
   "outputs": [],
   "source": []
  },
  {
   "cell_type": "code",
   "execution_count": null,
   "metadata": {},
   "outputs": [],
   "source": []
  },
  {
   "cell_type": "code",
   "execution_count": null,
   "metadata": {},
   "outputs": [],
   "source": []
  }
 ],
 "metadata": {
  "kernelspec": {
   "display_name": "Python 3.10.8 64-bit",
   "language": "python",
   "name": "python3"
  },
  "language_info": {
   "codemirror_mode": {
    "name": "ipython",
    "version": 3
   },
   "file_extension": ".py",
   "mimetype": "text/x-python",
   "name": "python",
   "nbconvert_exporter": "python",
   "pygments_lexer": "ipython3",
   "version": "3.10.8"
  },
  "orig_nbformat": 4,
  "vscode": {
   "interpreter": {
    "hash": "fc8182279ce6cdaca7fef62ed808d7afcd3782c73d9f961457aec6b24baf3452"
   }
  }
 },
 "nbformat": 4,
 "nbformat_minor": 2
}
